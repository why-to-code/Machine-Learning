{
 "cells": [
  {
   "cell_type": "code",
   "execution_count": 1,
   "id": "dc3d2f07",
   "metadata": {},
   "outputs": [],
   "source": [
    "# pip install numpy"
   ]
  },
  {
   "cell_type": "code",
   "execution_count": 7,
   "id": "2235b072",
   "metadata": {},
   "outputs": [],
   "source": [
    "import numpy as np"
   ]
  },
  {
   "cell_type": "code",
   "execution_count": 22,
   "id": "fbff3dcb",
   "metadata": {},
   "outputs": [],
   "source": [
    "# 1D array"
   ]
  },
  {
   "cell_type": "code",
   "execution_count": 16,
   "id": "e3fa7342",
   "metadata": {},
   "outputs": [
    {
     "data": {
      "text/plain": [
       "array([12, 56, 45, 87, 47])"
      ]
     },
     "execution_count": 16,
     "metadata": {},
     "output_type": "execute_result"
    }
   ],
   "source": [
    "nums = [12,56,45,87,47]\n",
    "arr_1d = np.array(nums)\n",
    "arr_1d"
   ]
  },
  {
   "cell_type": "code",
   "execution_count": 17,
   "id": "390567a8",
   "metadata": {},
   "outputs": [
    {
     "data": {
      "text/plain": [
       "numpy.ndarray"
      ]
     },
     "execution_count": 17,
     "metadata": {},
     "output_type": "execute_result"
    }
   ],
   "source": [
    "type(arr_1d)"
   ]
  },
  {
   "cell_type": "code",
   "execution_count": 10,
   "id": "a0425e64",
   "metadata": {},
   "outputs": [
    {
     "data": {
      "text/plain": [
       "numpy.int64"
      ]
     },
     "execution_count": 10,
     "metadata": {},
     "output_type": "execute_result"
    }
   ],
   "source": [
    "type(arr_1d[1])"
   ]
  },
  {
   "cell_type": "code",
   "execution_count": null,
   "id": "8221232c",
   "metadata": {},
   "outputs": [],
   "source": [
    "# Access element"
   ]
  },
  {
   "cell_type": "code",
   "execution_count": 11,
   "id": "c06aceab",
   "metadata": {},
   "outputs": [
    {
     "data": {
      "text/plain": [
       "87"
      ]
     },
     "execution_count": 11,
     "metadata": {},
     "output_type": "execute_result"
    }
   ],
   "source": [
    "arr_1d[3]"
   ]
  },
  {
   "cell_type": "code",
   "execution_count": 18,
   "id": "36b356e5",
   "metadata": {},
   "outputs": [
    {
     "ename": "IndexError",
     "evalue": "index 5 is out of bounds for axis 0 with size 5",
     "output_type": "error",
     "traceback": [
      "\u001b[0;31m---------------------------------------------------------------------------\u001b[0m",
      "\u001b[0;31mIndexError\u001b[0m                                Traceback (most recent call last)",
      "Input \u001b[0;32mIn [18]\u001b[0m, in \u001b[0;36m<cell line: 1>\u001b[0;34m()\u001b[0m\n\u001b[0;32m----> 1\u001b[0m \u001b[43marr_1d\u001b[49m\u001b[43m[\u001b[49m\u001b[38;5;241;43m5\u001b[39;49m\u001b[43m]\u001b[49m\n",
      "\u001b[0;31mIndexError\u001b[0m: index 5 is out of bounds for axis 0 with size 5"
     ]
    }
   ],
   "source": [
    "arr_1d[5]"
   ]
  },
  {
   "cell_type": "code",
   "execution_count": 19,
   "id": "1050e0a0",
   "metadata": {},
   "outputs": [
    {
     "data": {
      "text/plain": [
       "array([12, 56, 45, 87, 47])"
      ]
     },
     "execution_count": 19,
     "metadata": {},
     "output_type": "execute_result"
    }
   ],
   "source": [
    "arr_1d"
   ]
  },
  {
   "cell_type": "code",
   "execution_count": null,
   "id": "626dad77",
   "metadata": {},
   "outputs": [],
   "source": [
    "# Array slicing"
   ]
  },
  {
   "cell_type": "code",
   "execution_count": 20,
   "id": "8725b3bf",
   "metadata": {},
   "outputs": [
    {
     "data": {
      "text/plain": [
       "array([12, 56])"
      ]
     },
     "execution_count": 20,
     "metadata": {},
     "output_type": "execute_result"
    }
   ],
   "source": [
    "arr_1d[0:2]"
   ]
  },
  {
   "cell_type": "code",
   "execution_count": 30,
   "id": "a5223461",
   "metadata": {},
   "outputs": [
    {
     "data": {
      "text/plain": [
       "47"
      ]
     },
     "execution_count": 30,
     "metadata": {},
     "output_type": "execute_result"
    }
   ],
   "source": [
    "arr_1d[-1]"
   ]
  },
  {
   "cell_type": "code",
   "execution_count": 40,
   "id": "3b17583c",
   "metadata": {},
   "outputs": [],
   "source": [
    "# array shape"
   ]
  },
  {
   "cell_type": "code",
   "execution_count": 31,
   "id": "7de54c17",
   "metadata": {},
   "outputs": [
    {
     "data": {
      "text/plain": [
       "(5,)"
      ]
     },
     "execution_count": 31,
     "metadata": {},
     "output_type": "execute_result"
    }
   ],
   "source": [
    "arr_1d.shape"
   ]
  },
  {
   "cell_type": "code",
   "execution_count": 23,
   "id": "ed0e534e",
   "metadata": {},
   "outputs": [],
   "source": [
    "# 2d array"
   ]
  },
  {
   "cell_type": "code",
   "execution_count": 24,
   "id": "16374902",
   "metadata": {},
   "outputs": [],
   "source": [
    "list_2d = [ [12,5,6] , [4,8,3] , [87,56,3] ]\n",
    "arr_2d = np.array(list_2d)"
   ]
  },
  {
   "cell_type": "code",
   "execution_count": 25,
   "id": "e79e2e9b",
   "metadata": {},
   "outputs": [
    {
     "data": {
      "text/plain": [
       "array([[12,  5,  6],\n",
       "       [ 4,  8,  3],\n",
       "       [87, 56,  3]])"
      ]
     },
     "execution_count": 25,
     "metadata": {},
     "output_type": "execute_result"
    }
   ],
   "source": [
    "arr_2d"
   ]
  },
  {
   "cell_type": "code",
   "execution_count": null,
   "id": "b55f2904",
   "metadata": {},
   "outputs": [],
   "source": [
    "# Access element"
   ]
  },
  {
   "cell_type": "code",
   "execution_count": 27,
   "id": "94e29f82",
   "metadata": {},
   "outputs": [
    {
     "data": {
      "text/plain": [
       "5"
      ]
     },
     "execution_count": 27,
     "metadata": {},
     "output_type": "execute_result"
    }
   ],
   "source": [
    "arr_2d[0,1]"
   ]
  },
  {
   "cell_type": "code",
   "execution_count": 29,
   "id": "935a4ff0",
   "metadata": {},
   "outputs": [
    {
     "data": {
      "text/plain": [
       "(3, 3)"
      ]
     },
     "execution_count": 29,
     "metadata": {},
     "output_type": "execute_result"
    }
   ],
   "source": [
    "arr_2d.shape"
   ]
  },
  {
   "cell_type": "code",
   "execution_count": 41,
   "id": "90f78a2e",
   "metadata": {},
   "outputs": [
    {
     "data": {
      "text/plain": [
       "array([[12,  5,  6],\n",
       "       [ 4,  8,  3],\n",
       "       [87, 56,  3]])"
      ]
     },
     "execution_count": 41,
     "metadata": {},
     "output_type": "execute_result"
    }
   ],
   "source": [
    "arr_2d"
   ]
  },
  {
   "cell_type": "code",
   "execution_count": 42,
   "id": "38ac3973",
   "metadata": {},
   "outputs": [
    {
     "data": {
      "text/plain": [
       "array([12,  5])"
      ]
     },
     "execution_count": 42,
     "metadata": {},
     "output_type": "execute_result"
    }
   ],
   "source": [
    "arr_2d[0,0:2]"
   ]
  },
  {
   "cell_type": "code",
   "execution_count": 32,
   "id": "8ee6c77c",
   "metadata": {},
   "outputs": [],
   "source": [
    "# 3d array"
   ]
  },
  {
   "cell_type": "code",
   "execution_count": 33,
   "id": "bc318c62",
   "metadata": {},
   "outputs": [],
   "source": [
    "list_3d = [ [ [23,45,56],[56,67,8] ] , [ [4,7,8], [3,8,7]] , [[34,7,8],[34,78,6]] ]"
   ]
  },
  {
   "cell_type": "code",
   "execution_count": 34,
   "id": "180a6319",
   "metadata": {},
   "outputs": [
    {
     "data": {
      "text/plain": [
       "[[[23, 45, 56], [56, 67, 8]],\n",
       " [[4, 7, 8], [3, 8, 7]],\n",
       " [[34, 7, 8], [34, 78, 6]]]"
      ]
     },
     "execution_count": 34,
     "metadata": {},
     "output_type": "execute_result"
    }
   ],
   "source": [
    "list_3d"
   ]
  },
  {
   "cell_type": "code",
   "execution_count": 35,
   "id": "df46475a",
   "metadata": {},
   "outputs": [],
   "source": [
    "arr_3d = np.array(list_3d)"
   ]
  },
  {
   "cell_type": "code",
   "execution_count": 36,
   "id": "3402f9cf",
   "metadata": {},
   "outputs": [
    {
     "data": {
      "text/plain": [
       "array([[[23, 45, 56],\n",
       "        [56, 67,  8]],\n",
       "\n",
       "       [[ 4,  7,  8],\n",
       "        [ 3,  8,  7]],\n",
       "\n",
       "       [[34,  7,  8],\n",
       "        [34, 78,  6]]])"
      ]
     },
     "execution_count": 36,
     "metadata": {},
     "output_type": "execute_result"
    }
   ],
   "source": [
    "arr_3d"
   ]
  },
  {
   "cell_type": "code",
   "execution_count": 37,
   "id": "f403e888",
   "metadata": {},
   "outputs": [
    {
     "data": {
      "text/plain": [
       "numpy.ndarray"
      ]
     },
     "execution_count": 37,
     "metadata": {},
     "output_type": "execute_result"
    }
   ],
   "source": [
    "type(arr_3d)"
   ]
  },
  {
   "cell_type": "code",
   "execution_count": 38,
   "id": "1822c78e",
   "metadata": {},
   "outputs": [
    {
     "data": {
      "text/plain": [
       "(3, 2, 3)"
      ]
     },
     "execution_count": 38,
     "metadata": {},
     "output_type": "execute_result"
    }
   ],
   "source": [
    "arr_3d.shape"
   ]
  },
  {
   "cell_type": "code",
   "execution_count": 39,
   "id": "63a9c6e7",
   "metadata": {},
   "outputs": [
    {
     "data": {
      "text/plain": [
       "56"
      ]
     },
     "execution_count": 39,
     "metadata": {},
     "output_type": "execute_result"
    }
   ],
   "source": [
    "arr_3d[0,1,0]"
   ]
  },
  {
   "cell_type": "code",
   "execution_count": 43,
   "id": "2de1b3a2",
   "metadata": {},
   "outputs": [
    {
     "data": {
      "text/plain": [
       "array([[[23, 45, 56],\n",
       "        [56, 67,  8]],\n",
       "\n",
       "       [[ 4,  7,  8],\n",
       "        [ 3,  8,  7]],\n",
       "\n",
       "       [[34,  7,  8],\n",
       "        [34, 78,  6]]])"
      ]
     },
     "execution_count": 43,
     "metadata": {},
     "output_type": "execute_result"
    }
   ],
   "source": [
    "arr_3d"
   ]
  },
  {
   "cell_type": "code",
   "execution_count": 45,
   "id": "3f691590",
   "metadata": {},
   "outputs": [
    {
     "data": {
      "text/plain": [
       "array([3, 8])"
      ]
     },
     "execution_count": 45,
     "metadata": {},
     "output_type": "execute_result"
    }
   ],
   "source": [
    "arr_3d[1,1,0:2]"
   ]
  },
  {
   "cell_type": "code",
   "execution_count": 46,
   "id": "c2dfa780",
   "metadata": {},
   "outputs": [
    {
     "data": {
      "text/plain": [
       "(3, 2, 3)"
      ]
     },
     "execution_count": 46,
     "metadata": {},
     "output_type": "execute_result"
    }
   ],
   "source": [
    "arr_3d.shape"
   ]
  },
  {
   "cell_type": "code",
   "execution_count": 47,
   "id": "8273075f",
   "metadata": {},
   "outputs": [],
   "source": [
    "# 1D to 2D array"
   ]
  },
  {
   "cell_type": "code",
   "execution_count": 69,
   "id": "a6ef5ac0",
   "metadata": {},
   "outputs": [
    {
     "data": {
      "text/plain": [
       "array([12, 56, 87, 46,  3,  4])"
      ]
     },
     "execution_count": 69,
     "metadata": {},
     "output_type": "execute_result"
    }
   ],
   "source": [
    "list_1d = [12,56,87,46,3,4]\n",
    "arr_1d= np.array(list_1d)\n",
    "arr_1d"
   ]
  },
  {
   "cell_type": "code",
   "execution_count": 70,
   "id": "dee3efeb",
   "metadata": {},
   "outputs": [],
   "source": [
    "arr_2d = arr_1d.reshape(3,2)"
   ]
  },
  {
   "cell_type": "code",
   "execution_count": 71,
   "id": "7995bb43",
   "metadata": {},
   "outputs": [
    {
     "data": {
      "text/plain": [
       "array([[12, 56],\n",
       "       [87, 46],\n",
       "       [ 3,  4]])"
      ]
     },
     "execution_count": 71,
     "metadata": {},
     "output_type": "execute_result"
    }
   ],
   "source": [
    "arr_2d"
   ]
  },
  {
   "cell_type": "code",
   "execution_count": 72,
   "id": "ed48e60a",
   "metadata": {},
   "outputs": [
    {
     "data": {
      "text/plain": [
       "(3, 2)"
      ]
     },
     "execution_count": 72,
     "metadata": {},
     "output_type": "execute_result"
    }
   ],
   "source": [
    "arr_2d.shape"
   ]
  },
  {
   "cell_type": "code",
   "execution_count": 73,
   "id": "ecf4dc5e",
   "metadata": {},
   "outputs": [],
   "source": [
    "# 2d to 1d"
   ]
  },
  {
   "cell_type": "code",
   "execution_count": 78,
   "id": "61bab516",
   "metadata": {},
   "outputs": [
    {
     "data": {
      "text/plain": [
       "array([[12, 56],\n",
       "       [87, 46],\n",
       "       [ 3,  4]])"
      ]
     },
     "execution_count": 78,
     "metadata": {},
     "output_type": "execute_result"
    }
   ],
   "source": [
    "arr_2d"
   ]
  },
  {
   "cell_type": "code",
   "execution_count": 83,
   "id": "150b0198",
   "metadata": {},
   "outputs": [],
   "source": [
    "arr_1 = arr_2d.reshape(-1)"
   ]
  },
  {
   "cell_type": "code",
   "execution_count": 84,
   "id": "6887eb29",
   "metadata": {},
   "outputs": [
    {
     "data": {
      "text/plain": [
       "(6,)"
      ]
     },
     "execution_count": 84,
     "metadata": {},
     "output_type": "execute_result"
    }
   ],
   "source": [
    "arr_1.shape"
   ]
  },
  {
   "cell_type": "code",
   "execution_count": 85,
   "id": "c13fb3ee",
   "metadata": {},
   "outputs": [
    {
     "data": {
      "text/plain": [
       "array([12, 56, 87, 46,  3,  4])"
      ]
     },
     "execution_count": 85,
     "metadata": {},
     "output_type": "execute_result"
    }
   ],
   "source": [
    "arr_1"
   ]
  },
  {
   "cell_type": "code",
   "execution_count": 86,
   "id": "bc415e9a",
   "metadata": {},
   "outputs": [],
   "source": [
    "#1d to 3d"
   ]
  },
  {
   "cell_type": "code",
   "execution_count": 87,
   "id": "e4ed99a5",
   "metadata": {},
   "outputs": [],
   "source": [
    "list_2 = [1,2,3,4,5,6,7,8,9,10,11,12]"
   ]
  },
  {
   "cell_type": "code",
   "execution_count": 88,
   "id": "43349182",
   "metadata": {},
   "outputs": [],
   "source": [
    "arr_1d = np.array(list_2)"
   ]
  },
  {
   "cell_type": "code",
   "execution_count": 89,
   "id": "31f70467",
   "metadata": {},
   "outputs": [
    {
     "data": {
      "text/plain": [
       "array([ 1,  2,  3,  4,  5,  6,  7,  8,  9, 10, 11, 12])"
      ]
     },
     "execution_count": 89,
     "metadata": {},
     "output_type": "execute_result"
    }
   ],
   "source": [
    "arr_1d"
   ]
  },
  {
   "cell_type": "code",
   "execution_count": 90,
   "id": "014b1237",
   "metadata": {},
   "outputs": [],
   "source": [
    "arr_2 = arr_1d.reshape(3,2,2)"
   ]
  },
  {
   "cell_type": "code",
   "execution_count": 91,
   "id": "efcbf333",
   "metadata": {},
   "outputs": [
    {
     "data": {
      "text/plain": [
       "array([[[ 1,  2],\n",
       "        [ 3,  4]],\n",
       "\n",
       "       [[ 5,  6],\n",
       "        [ 7,  8]],\n",
       "\n",
       "       [[ 9, 10],\n",
       "        [11, 12]]])"
      ]
     },
     "execution_count": 91,
     "metadata": {},
     "output_type": "execute_result"
    }
   ],
   "source": [
    "arr_2"
   ]
  },
  {
   "cell_type": "code",
   "execution_count": 92,
   "id": "b0d9187b",
   "metadata": {},
   "outputs": [
    {
     "data": {
      "text/plain": [
       "(3, 2, 2)"
      ]
     },
     "execution_count": 92,
     "metadata": {},
     "output_type": "execute_result"
    }
   ],
   "source": [
    "arr_2.shape"
   ]
  },
  {
   "cell_type": "code",
   "execution_count": 93,
   "id": "1977dde1",
   "metadata": {},
   "outputs": [],
   "source": [
    "# 3d to 1d"
   ]
  },
  {
   "cell_type": "code",
   "execution_count": 94,
   "id": "ee572d39",
   "metadata": {},
   "outputs": [],
   "source": [
    "arr_3 = arr_2.reshape(-1)"
   ]
  },
  {
   "cell_type": "code",
   "execution_count": 95,
   "id": "2d252c1a",
   "metadata": {},
   "outputs": [
    {
     "data": {
      "text/plain": [
       "array([ 1,  2,  3,  4,  5,  6,  7,  8,  9, 10, 11, 12])"
      ]
     },
     "execution_count": 95,
     "metadata": {},
     "output_type": "execute_result"
    }
   ],
   "source": [
    "arr_3"
   ]
  },
  {
   "cell_type": "code",
   "execution_count": 96,
   "id": "81144395",
   "metadata": {},
   "outputs": [],
   "source": [
    "# 3d to 2d"
   ]
  },
  {
   "cell_type": "code",
   "execution_count": 97,
   "id": "690a2952",
   "metadata": {},
   "outputs": [
    {
     "data": {
      "text/plain": [
       "array([[[ 1,  2],\n",
       "        [ 3,  4]],\n",
       "\n",
       "       [[ 5,  6],\n",
       "        [ 7,  8]],\n",
       "\n",
       "       [[ 9, 10],\n",
       "        [11, 12]]])"
      ]
     },
     "execution_count": 97,
     "metadata": {},
     "output_type": "execute_result"
    }
   ],
   "source": [
    "arr_2"
   ]
  },
  {
   "cell_type": "code",
   "execution_count": 98,
   "id": "866c2047",
   "metadata": {},
   "outputs": [],
   "source": [
    "arr_4 = arr_2.reshape(6,2)"
   ]
  },
  {
   "cell_type": "code",
   "execution_count": 99,
   "id": "4caee5b4",
   "metadata": {},
   "outputs": [
    {
     "data": {
      "text/plain": [
       "array([[ 1,  2],\n",
       "       [ 3,  4],\n",
       "       [ 5,  6],\n",
       "       [ 7,  8],\n",
       "       [ 9, 10],\n",
       "       [11, 12]])"
      ]
     },
     "execution_count": 99,
     "metadata": {},
     "output_type": "execute_result"
    }
   ],
   "source": [
    "arr_4"
   ]
  },
  {
   "cell_type": "code",
   "execution_count": 100,
   "id": "711bcaf4",
   "metadata": {},
   "outputs": [],
   "source": [
    "# Iterating Arrays"
   ]
  },
  {
   "cell_type": "code",
   "execution_count": 101,
   "id": "537e58b5",
   "metadata": {},
   "outputs": [
    {
     "data": {
      "text/plain": [
       "array([ 1,  2,  3,  4,  5,  6,  7,  8,  9, 10, 11, 12])"
      ]
     },
     "execution_count": 101,
     "metadata": {},
     "output_type": "execute_result"
    }
   ],
   "source": [
    "arr_1d"
   ]
  },
  {
   "cell_type": "code",
   "execution_count": 102,
   "id": "7a4a60e1",
   "metadata": {},
   "outputs": [
    {
     "name": "stdout",
     "output_type": "stream",
     "text": [
      "1\n",
      "2\n",
      "3\n",
      "4\n",
      "5\n",
      "6\n",
      "7\n",
      "8\n",
      "9\n",
      "10\n",
      "11\n",
      "12\n"
     ]
    }
   ],
   "source": [
    "for x in arr_1d:\n",
    "    print(x)"
   ]
  },
  {
   "cell_type": "code",
   "execution_count": 103,
   "id": "b5c2ac2e",
   "metadata": {},
   "outputs": [
    {
     "data": {
      "text/plain": [
       "array([[12, 56],\n",
       "       [87, 46],\n",
       "       [ 3,  4]])"
      ]
     },
     "execution_count": 103,
     "metadata": {},
     "output_type": "execute_result"
    }
   ],
   "source": [
    "arr_2d"
   ]
  },
  {
   "cell_type": "code",
   "execution_count": 105,
   "id": "f91480a1",
   "metadata": {},
   "outputs": [
    {
     "name": "stdout",
     "output_type": "stream",
     "text": [
      "12\n",
      "56\n",
      "87\n",
      "46\n",
      "3\n",
      "4\n"
     ]
    }
   ],
   "source": [
    "for x in arr_2d:\n",
    "    for y in x:\n",
    "        print(y)"
   ]
  },
  {
   "cell_type": "code",
   "execution_count": 106,
   "id": "b2cdd142",
   "metadata": {},
   "outputs": [
    {
     "data": {
      "text/plain": [
       "array([[[23, 45, 56],\n",
       "        [56, 67,  8]],\n",
       "\n",
       "       [[ 4,  7,  8],\n",
       "        [ 3,  8,  7]],\n",
       "\n",
       "       [[34,  7,  8],\n",
       "        [34, 78,  6]]])"
      ]
     },
     "execution_count": 106,
     "metadata": {},
     "output_type": "execute_result"
    }
   ],
   "source": [
    "arr_3d"
   ]
  },
  {
   "cell_type": "code",
   "execution_count": 110,
   "id": "b402e4de",
   "metadata": {},
   "outputs": [
    {
     "name": "stdout",
     "output_type": "stream",
     "text": [
      "23\n",
      "45\n",
      "56\n",
      "56\n",
      "67\n",
      "8\n",
      "4\n",
      "7\n",
      "8\n",
      "3\n",
      "8\n",
      "7\n",
      "34\n",
      "7\n",
      "8\n",
      "34\n",
      "78\n",
      "6\n"
     ]
    }
   ],
   "source": [
    "for x in arr_3d:\n",
    "    for y in x:\n",
    "        for z in y:\n",
    "            print(z)"
   ]
  },
  {
   "cell_type": "code",
   "execution_count": 111,
   "id": "2e8e4931",
   "metadata": {},
   "outputs": [
    {
     "name": "stdout",
     "output_type": "stream",
     "text": [
      "23\n",
      "45\n",
      "56\n",
      "56\n",
      "67\n",
      "8\n",
      "4\n",
      "7\n",
      "8\n",
      "3\n",
      "8\n",
      "7\n",
      "34\n",
      "7\n",
      "8\n",
      "34\n",
      "78\n",
      "6\n"
     ]
    }
   ],
   "source": [
    "for x in np.nditer(arr_3d):\n",
    "    print(x)"
   ]
  },
  {
   "cell_type": "code",
   "execution_count": 112,
   "id": "29c61d52",
   "metadata": {},
   "outputs": [],
   "source": [
    "# concating"
   ]
  },
  {
   "cell_type": "code",
   "execution_count": 113,
   "id": "535831a8",
   "metadata": {},
   "outputs": [],
   "source": [
    "arr_1 = np.array([23,67,5,7])\n",
    "arr_2 = np.array([3,4,5,6])"
   ]
  },
  {
   "cell_type": "code",
   "execution_count": 114,
   "id": "6e0a3285",
   "metadata": {},
   "outputs": [
    {
     "data": {
      "text/plain": [
       "array([23, 67,  5,  7])"
      ]
     },
     "execution_count": 114,
     "metadata": {},
     "output_type": "execute_result"
    }
   ],
   "source": [
    "arr_1"
   ]
  },
  {
   "cell_type": "code",
   "execution_count": 115,
   "id": "4b0673a0",
   "metadata": {},
   "outputs": [
    {
     "data": {
      "text/plain": [
       "array([3, 4, 5, 6])"
      ]
     },
     "execution_count": 115,
     "metadata": {},
     "output_type": "execute_result"
    }
   ],
   "source": [
    "arr_2"
   ]
  },
  {
   "cell_type": "code",
   "execution_count": 116,
   "id": "392a285d",
   "metadata": {},
   "outputs": [],
   "source": [
    "arr_3 = np.concatenate([arr_1,arr_2])"
   ]
  },
  {
   "cell_type": "code",
   "execution_count": 117,
   "id": "26096ec2",
   "metadata": {},
   "outputs": [
    {
     "data": {
      "text/plain": [
       "array([23, 67,  5,  7,  3,  4,  5,  6])"
      ]
     },
     "execution_count": 117,
     "metadata": {},
     "output_type": "execute_result"
    }
   ],
   "source": [
    "arr_3"
   ]
  },
  {
   "cell_type": "code",
   "execution_count": 122,
   "id": "dad82e7a",
   "metadata": {},
   "outputs": [
    {
     "data": {
      "text/plain": [
       "array([[23, 67,  5,  7],\n",
       "       [ 3,  4,  5,  6]])"
      ]
     },
     "execution_count": 122,
     "metadata": {},
     "output_type": "execute_result"
    }
   ],
   "source": [
    "arr_4 = np.stack([arr_1,arr_2])\n",
    "arr_4"
   ]
  },
  {
   "cell_type": "code",
   "execution_count": 123,
   "id": "a2bba336",
   "metadata": {},
   "outputs": [
    {
     "data": {
      "text/plain": [
       "array([[23,  3],\n",
       "       [67,  4],\n",
       "       [ 5,  5],\n",
       "       [ 7,  6]])"
      ]
     },
     "execution_count": 123,
     "metadata": {},
     "output_type": "execute_result"
    }
   ],
   "source": [
    "arr_4 = np.stack([arr_1,arr_2],axis =1) # column wise\n",
    "arr_4"
   ]
  },
  {
   "cell_type": "code",
   "execution_count": 124,
   "id": "26777fac",
   "metadata": {},
   "outputs": [
    {
     "data": {
      "text/plain": [
       "array([23, 67,  5,  7])"
      ]
     },
     "execution_count": 124,
     "metadata": {},
     "output_type": "execute_result"
    }
   ],
   "source": [
    "arr_1"
   ]
  },
  {
   "cell_type": "code",
   "execution_count": 125,
   "id": "5893d2e7",
   "metadata": {},
   "outputs": [
    {
     "data": {
      "text/plain": [
       "array([3, 4, 5, 6])"
      ]
     },
     "execution_count": 125,
     "metadata": {},
     "output_type": "execute_result"
    }
   ],
   "source": [
    "arr_2"
   ]
  },
  {
   "cell_type": "code",
   "execution_count": 126,
   "id": "3867420c",
   "metadata": {},
   "outputs": [
    {
     "data": {
      "text/plain": [
       "array([23, 67,  5,  7,  3,  4,  5,  6])"
      ]
     },
     "execution_count": 126,
     "metadata": {},
     "output_type": "execute_result"
    }
   ],
   "source": [
    "arr_5 = np.hstack([arr_1,arr_2])\n",
    "arr_5"
   ]
  },
  {
   "cell_type": "code",
   "execution_count": 127,
   "id": "d6fc97cf",
   "metadata": {},
   "outputs": [
    {
     "data": {
      "text/plain": [
       "array([[23, 67,  5,  7],\n",
       "       [ 3,  4,  5,  6]])"
      ]
     },
     "execution_count": 127,
     "metadata": {},
     "output_type": "execute_result"
    }
   ],
   "source": [
    "arr_6 = np.vstack([arr_1,arr_2])\n",
    "arr_6"
   ]
  },
  {
   "cell_type": "code",
   "execution_count": 128,
   "id": "bd7c9a8f",
   "metadata": {},
   "outputs": [
    {
     "data": {
      "text/plain": [
       "array([ 1,  2,  3,  4,  5,  6,  7,  8,  9, 10, 11, 12])"
      ]
     },
     "execution_count": 128,
     "metadata": {},
     "output_type": "execute_result"
    }
   ],
   "source": [
    "arr_1d"
   ]
  },
  {
   "cell_type": "code",
   "execution_count": 129,
   "id": "6d3e8305",
   "metadata": {},
   "outputs": [
    {
     "data": {
      "text/plain": [
       "12"
      ]
     },
     "execution_count": 129,
     "metadata": {},
     "output_type": "execute_result"
    }
   ],
   "source": [
    "arr_1d.max()"
   ]
  },
  {
   "cell_type": "code",
   "execution_count": 130,
   "id": "2d4b28a9",
   "metadata": {},
   "outputs": [
    {
     "data": {
      "text/plain": [
       "1"
      ]
     },
     "execution_count": 130,
     "metadata": {},
     "output_type": "execute_result"
    }
   ],
   "source": [
    "arr_1d.min()"
   ]
  },
  {
   "cell_type": "code",
   "execution_count": 131,
   "id": "a621c977",
   "metadata": {},
   "outputs": [
    {
     "data": {
      "text/plain": [
       "6.5"
      ]
     },
     "execution_count": 131,
     "metadata": {},
     "output_type": "execute_result"
    }
   ],
   "source": [
    "arr_1d.mean()"
   ]
  },
  {
   "cell_type": "code",
   "execution_count": null,
   "id": "6e385da1",
   "metadata": {},
   "outputs": [],
   "source": []
  }
 ],
 "metadata": {
  "kernelspec": {
   "display_name": "Python 3 (ipykernel)",
   "language": "python",
   "name": "python3"
  },
  "language_info": {
   "codemirror_mode": {
    "name": "ipython",
    "version": 3
   },
   "file_extension": ".py",
   "mimetype": "text/x-python",
   "name": "python",
   "nbconvert_exporter": "python",
   "pygments_lexer": "ipython3",
   "version": "3.9.6"
  }
 },
 "nbformat": 4,
 "nbformat_minor": 5
}
